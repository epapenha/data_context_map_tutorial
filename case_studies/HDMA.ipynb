{
 "cells": [
  {
   "cell_type": "markdown",
   "metadata": {},
   "source": [
    "## Download the Data set"
   ]
  },
  {
   "cell_type": "code",
   "execution_count": null,
   "metadata": {},
   "outputs": [],
   "source": [
    "import os\n",
    "DATA_PATH = os.getcwd()+\"/../data/\"\n",
    "\n",
    "!pwd\n",
    "os.chdir(DATA_PATH)\n",
    "!pwd\n",
    "\n",
    "!wget --load-cookies /tmp/cookies.txt \"https://docs.google.com/uc?export=download&confirm=$(wget --quiet --save-cookies /tmp/cookies.txt --keep-session-cookies --no-check-certificate 'https://docs.google.com/uc?export=download&id=1ijA9YbKUMKxyiil7qI93jN-dHPQGjZlB' -O- | sed -rn 's/.*confirm=([0-9A-Za-z_]+).*/\\1\\n/p')&id=1ijA9YbKUMKxyiil7qI93jN-dHPQGjZlB\" -O Washington_State_HDMA-2016.csv && rm -rf /tmp/cookies.txt\n",
    "\n",
    "!pwd\n",
    "os.chdir(\"../notebooks\")\n",
    "!pwd"
   ]
  },
  {
   "cell_type": "markdown",
   "metadata": {},
   "source": [
    "# Washington State HDMA Home Loans"
   ]
  },
  {
   "cell_type": "markdown",
   "metadata": {},
   "source": [
    "#### This data set contains observations of Washington State home loans - variables include; demographic information, area specific data, loan status, property type, loan type, loan purpose and originating agency. The goal is to explain factors that lead to home loan rejections."
   ]
  },
  {
   "cell_type": "code",
   "execution_count": null,
   "metadata": {},
   "outputs": [],
   "source": [
    "import pandas as pd\n",
    "import numpy as np\n",
    "from sklearn import datasets\n",
    "\n",
    "import data_context_map.pattern_miner as pm\n",
    "\n",
    "df = pd.read_csv('../data/Washington_State_HDMA-2016.csv')\n",
    "df = df[(df['action_taken_name'] == 'Loan originated') | (df['action_taken_name'] == 'Application denied by financial institution')]\n",
    "df = df.drop(['respondent_id', 'sequence_number', 'purchaser_type_name', 'denial_reason_name_1'], axis=1)\n",
    "\n",
    "c = {'Loan originated': 0, 'Application denied by financial institution': 1}\n",
    "df['action_taken_name'] = df['action_taken_name'].map(c)\n",
    "df = df[df['loan_purpose_name'] == 'Home purchase']"
   ]
  },
  {
   "cell_type": "code",
   "execution_count": null,
   "metadata": {},
   "outputs": [],
   "source": [
    "dependent = 'action_taken_name'\n",
    "out = pm.DataContextMap(df, dependent, mine_type='binary', es_thresh=2.5, fdr='fast', show_causal=True, verbose=1)\n",
    "out.render()"
   ]
  },
  {
   "cell_type": "code",
   "execution_count": null,
   "metadata": {},
   "outputs": [],
   "source": []
  }
 ],
 "metadata": {
  "kernelspec": {
   "display_name": "Python 3",
   "language": "python",
   "name": "python3"
  },
  "language_info": {
   "codemirror_mode": {
    "name": "ipython",
    "version": 3
   },
   "file_extension": ".py",
   "mimetype": "text/x-python",
   "name": "python",
   "nbconvert_exporter": "python",
   "pygments_lexer": "ipython3",
   "version": "3.7.5"
  }
 },
 "nbformat": 4,
 "nbformat_minor": 4
}
