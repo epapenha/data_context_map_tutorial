{
 "cells": [
  {
   "cell_type": "markdown",
   "metadata": {},
   "source": [
    "# Stroke Dataset"
   ]
  },
  {
   "cell_type": "markdown",
   "metadata": {},
   "source": [
    "This is a dataset taken from Kaggle. It consists of a list of patients (rows) along with patient attributes (e.g. age, bmi, hypertension, etc.). The goal is to identify attributes that lead to an increased risk of stroke."
   ]
  },
  {
   "cell_type": "code",
   "execution_count": null,
   "metadata": {},
   "outputs": [],
   "source": [
    "import numpy as np\n",
    "import pandas as pd\n",
    "\n",
    "import data_context_map.pattern_miner as pm\n",
    "\n",
    "df = pd.read_csv('../data/stroke.csv')\n",
    "\n",
    "df.dropna(subset=['bmi'], inplace=True)\n",
    "df.drop(['id'], axis=1, inplace=True)\n",
    "\n",
    "c1 = {1: 'Yes', 0: 'No'}\n",
    "df['hypertension'] = df['hypertension'].map(c1)\n",
    "\n",
    "c2 = {1: 'Yes', 0: 'No'}\n",
    "df['heart_disease'] = df['heart_disease'].map(c2)\n",
    "\n",
    "target = 'stroke'\n",
    "out = pm.DataContextMap(df, target, mine_type='binary', \n",
    "                        fdr='exhaustive', \n",
    "                        causal_rule='iptw',  # perform causal analysis of patterns\n",
    "                        show_causal=True, verbose=1)\n",
    "out.render()"
   ]
  },
  {
   "cell_type": "code",
   "execution_count": null,
   "metadata": {},
   "outputs": [],
   "source": []
  }
 ],
 "metadata": {
  "kernelspec": {
   "display_name": "Python 3",
   "language": "python",
   "name": "python3"
  },
  "language_info": {
   "codemirror_mode": {
    "name": "ipython",
    "version": 3
   },
   "file_extension": ".py",
   "mimetype": "text/x-python",
   "name": "python",
   "nbconvert_exporter": "python",
   "pygments_lexer": "ipython3",
   "version": "3.7.5"
  }
 },
 "nbformat": 4,
 "nbformat_minor": 4
}
