{
 "cells": [
  {
   "cell_type": "markdown",
   "metadata": {},
   "source": [
    "#### Read S&P500 Data"
   ]
  },
  {
   "cell_type": "code",
   "execution_count": null,
   "metadata": {},
   "outputs": [],
   "source": [
    "import pandas as pd\n",
    "sp500 = pd.read_csv('data/sp500.csv')"
   ]
  },
  {
   "cell_type": "markdown",
   "metadata": {},
   "source": [
    "#### Analyze Using the AI Rover"
   ]
  },
  {
   "cell_type": "code",
   "execution_count": null,
   "metadata": {},
   "outputs": [],
   "source": [
    "import data_context_map.pattern_miner as pm\n",
    "\n",
    "target = 'return'  # Identify drivers of 'return'\n",
    "out = pm.AKMiner(sp500,  # dataset to analyze\n",
    "                 target, # target variable of interest\n",
    "                 max_pattern=100,  # max number of groups to show \n",
    "                 holdout=1  # number of holdout sets\n",
    "                )  \n",
    "out.render()  # render interface"
   ]
  },
  {
   "cell_type": "markdown",
   "metadata": {},
   "source": [
    "#### Analyze using the Correlation Miner"
   ]
  },
  {
   "cell_type": "code",
   "execution_count": null,
   "metadata": {},
   "outputs": [],
   "source": [
    "import data_context_map.correlation_miner as cm\n",
    "\n",
    "ctab = cm.CorrelationTable(sp500,  # dataset to analyze\n",
    "                           target, # target variable of interest\n",
    "                           precompute=True, # Pre-mine all correlation patterns\n",
    "                           holdout=1  # number of holdout sets\n",
    "                          )\n",
    "ctab.render()"
   ]
  },
  {
   "cell_type": "code",
   "execution_count": null,
   "metadata": {},
   "outputs": [],
   "source": []
  }
 ],
 "metadata": {
  "kernelspec": {
   "display_name": "Python 3",
   "language": "python",
   "name": "python3"
  },
  "language_info": {
   "codemirror_mode": {
    "name": "ipython",
    "version": 3
   },
   "file_extension": ".py",
   "mimetype": "text/x-python",
   "name": "python",
   "nbconvert_exporter": "python",
   "pygments_lexer": "ipython3",
   "version": "3.7.5"
  }
 },
 "nbformat": 4,
 "nbformat_minor": 4
}
