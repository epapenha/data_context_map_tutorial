{
 "cells": [
  {
   "cell_type": "code",
   "execution_count": null,
   "metadata": {
    "scrolled": false
   },
   "outputs": [],
   "source": [
    "import os\n",
    "\n",
    "import pandas as pd\n",
    "import numpy as np\n",
    "\n",
    "import data_context_map.pattern_miner as pm\n",
    "\n",
    "filename = os.getcwd()+'/explainable-ai/data/Stocks_2016.csv'\n",
    "df = pd.read_csv(filename)\n",
    "\n",
    "# target attribute\n",
    "target = 'return'\n",
    "\n",
    "# temporal attribute\n",
    "temporal = 'period'  # in this dataset each period represents a month\n",
    "\n",
    "# The number of consecutive timesteps a pattern must be significantly\n",
    "# above / below average to be considered temporally consistent.\n",
    "min_stable = 6\n",
    "\n",
    "# The granularity of a timestep.\n",
    "ts_width = 1  # each timestep is a month\n",
    "\n",
    "out = pm.DataContextMap(df, target, temporal,                        \n",
    "                        min_stable=min_stable,                        \n",
    "                        ts_width=ts_width,\n",
    "                        mine_type='numeric',\n",
    "                        show_help=True)\n",
    "\n",
    "out.render()"
   ]
  },
  {
   "cell_type": "code",
   "execution_count": null,
   "metadata": {},
   "outputs": [],
   "source": []
  }
 ],
 "metadata": {
  "kernelspec": {
   "display_name": "Python 3",
   "language": "python",
   "name": "python3"
  },
  "language_info": {
   "codemirror_mode": {
    "name": "ipython",
    "version": 3
   },
   "file_extension": ".py",
   "mimetype": "text/x-python",
   "name": "python",
   "nbconvert_exporter": "python",
   "pygments_lexer": "ipython3",
   "version": "3.7.5"
  }
 },
 "nbformat": 4,
 "nbformat_minor": 2
}
