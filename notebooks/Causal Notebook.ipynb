{
 "cells": [
  {
   "cell_type": "code",
   "execution_count": null,
   "metadata": {},
   "outputs": [],
   "source": [
    "import os\n",
    "\n",
    "import pandas as pd\n",
    "import numpy as np\n",
    "\n",
    "import data_context_map.pattern_miner as pm\n",
    "\n",
    "filename = os.getcwd()+'/../data/sp500.csv'\n",
    "df = pd.read_csv(filename)\n",
    "target = 'fut_return'\n",
    "\n",
    "# List of attributes which cannot be caused by another\n",
    "causes_only = ['sector']\n",
    "\n",
    "out = pm.DataContextMap(df, target, mine_type='numeric', fdr='exhaustive', show_causal=True,\n",
    "                        causes_only=causes_only, holdout=2)\n",
    "out.render()"
   ]
  },
  {
   "cell_type": "markdown",
   "metadata": {},
   "source": [
    "### Correlation Mining"
   ]
  },
  {
   "cell_type": "markdown",
   "metadata": {},
   "source": [
    "##### Presents a correlation table from which we can compute correlation patterns"
   ]
  },
  {
   "cell_type": "code",
   "execution_count": null,
   "metadata": {},
   "outputs": [],
   "source": [
    "import data_context_map.correlation_miner as cm\n",
    "\n",
    "ctab = cm.CorrelationTable(df, dependent='fut_return', precompute=True, holdout=2)\n",
    "ctab.render()"
   ]
  },
  {
   "cell_type": "code",
   "execution_count": null,
   "metadata": {},
   "outputs": [],
   "source": []
  }
 ],
 "metadata": {
  "kernelspec": {
   "display_name": "Python 3",
   "language": "python",
   "name": "python3"
  },
  "language_info": {
   "codemirror_mode": {
    "name": "ipython",
    "version": 3
   },
   "file_extension": ".py",
   "mimetype": "text/x-python",
   "name": "python",
   "nbconvert_exporter": "python",
   "pygments_lexer": "ipython3",
   "version": "3.7.5"
  }
 },
 "nbformat": 4,
 "nbformat_minor": 4
}
