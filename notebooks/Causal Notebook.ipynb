{
 "cells": [
  {
   "cell_type": "code",
   "execution_count": null,
   "metadata": {},
   "outputs": [],
   "source": [
    "import pandas as pd\n",
    "import numpy as np\n",
    "import data_context_map.pattern_miner as pm\n",
    "\n",
    "df = pd.read_csv('../data/sp500.csv')\n",
    "target = 'fut_return'\n",
    "\n",
    "# List of attributes which cannot be caused by another\n",
    "causes_only = ['sector']\n",
    "\n",
    "out = pm.DataContextMap(df, target, mine_type='numeric', fdr='exhaustive', show_causal=True,\n",
    "                        causes_only=causes_only, show_help=True, verbose=1)\n",
    "out.render()"
   ]
  },
  {
   "cell_type": "markdown",
   "metadata": {},
   "source": [
    "### Correlation / Causal Heatmap"
   ]
  },
  {
   "cell_type": "markdown",
   "metadata": {},
   "source": [
    "##### Renders a heatmap in which correlation is mapped to color. You can also toggle on the Causal heatmap which removes spurious correlations"
   ]
  },
  {
   "cell_type": "code",
   "execution_count": null,
   "metadata": {},
   "outputs": [],
   "source": [
    "hmap = pm.HeatMap(df,  dependent='fut_return')\n",
    "hmap.render()"
   ]
  },
  {
   "cell_type": "code",
   "execution_count": null,
   "metadata": {},
   "outputs": [],
   "source": []
  }
 ],
 "metadata": {
  "kernelspec": {
   "display_name": "Python 3",
   "language": "python",
   "name": "python3"
  },
  "language_info": {
   "codemirror_mode": {
    "name": "ipython",
    "version": 3
   },
   "file_extension": ".py",
   "mimetype": "text/x-python",
   "name": "python",
   "nbconvert_exporter": "python",
   "pygments_lexer": "ipython3",
   "version": "3.7.5"
  }
 },
 "nbformat": 4,
 "nbformat_minor": 4
}
