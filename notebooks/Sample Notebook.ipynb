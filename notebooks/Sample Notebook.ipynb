{
 "cells": [
  {
   "cell_type": "code",
   "execution_count": 2,
   "metadata": {},
   "outputs": [
    {
     "name": "stdout",
     "output_type": "stream",
     "text": [
      "INFO:root:Converting attributes to numerical...\n",
      "DEBUG:root:Done in 0.011725 seconds\n",
      "\n",
      "INFO:root:Dropping non-data columns...\n",
      "INFO:root:Dropping symbol\n",
      "DEBUG:root:Done in 0.010002 seconds\n",
      "\n",
      "INFO:root:Dropping columns with too many missing values...\n",
      "DEBUG:root:Done in 0.005219 seconds\n",
      "\n",
      "INFO:root:Identifying categories labeled with numbers...\n",
      "DEBUG:root:Done in 0.005154 seconds\n",
      "\n",
      "INFO:root:Converting categories to numeric values...\n",
      "DEBUG:root:Mapping sector\n",
      "DEBUG:root:Handling duplicates...\n",
      "DEBUG:root:Done in 0.000008 seconds\n",
      "\n",
      "DEBUG:root:Done in 0.001053 seconds\n",
      "\n",
      "INFO:root:Performing data imputation...\n",
      "DEBUG:root:Done in 0.626827 seconds\n",
      "\n",
      "INFO:root:Dropping highly correlated columns...\n",
      "INFO:root:Dropping profit_margin\n",
      "DEBUG:root:Done in 0.039733 seconds\n",
      "\n",
      "INFO:root:Discretizing...\n",
      "DEBUG:root:Done in 0.166694 seconds\n",
      "\n",
      "INFO:root:Mining patterns...\n",
      "INFO:root:Found 117 Patterns\n",
      "DEBUG:root:Done in 0.045508 seconds\n",
      "\n",
      "INFO:root:Getting readable description...\n",
      "DEBUG:root:Done in 0.075902 seconds\n",
      "\n",
      "INFO:root:Testing patterns...\n",
      "DEBUG:root:Done in 0.684864 seconds\n",
      "\n",
      "INFO:root:Removing redundancies...\n",
      "INFO:root:starting number of patterns: 6\n",
      "\n",
      "INFO:root:final number of patterns: 3\n",
      "\n",
      "DEBUG:root:Mined patterns in 1.152279 seconds\n",
      "\n",
      "INFO:root:Creating pattern objects...\n",
      "DEBUG:root:Done in 0.000045 seconds\n",
      "\n",
      "INFO:root:Temporal partitioning...\n",
      "DEBUG:root:Done in 0.000008 seconds\n",
      "\n",
      "INFO:root:Gathering statistics for time step 0...\n",
      "INFO:root:Gathering General Statistics\n",
      "DEBUG:root:Done in 0.003067 seconds\n",
      "\n",
      "INFO:root:Gathering Pattern Statistics...\n",
      "DEBUG:root:Done in 0.013479 seconds\n",
      "\n",
      "INFO:root:Embedding statistics...\n",
      "DEBUG:root:Done in 0.000011 seconds\n",
      "\n",
      "DEBUG:root:Done in 0.031564 second\n",
      "\n",
      "INFO:root:\n",
      "INFO:root:Summary\n",
      "INFO:root:-------------------------------\n",
      "INFO:root:Number of patterns: 3\n",
      "INFO:root:Total Number of Attributes: 25\n",
      "INFO:root:Reduced Number of Attributes: 5\n",
      "INFO:root:Min. Pattern Dimension: 1\n",
      "INFO:root:Max. Pattern Dimension: 2\n"
     ]
    },
    {
     "name": "stderr",
     "output_type": "stream",
     "text": [
      "/home/epapenhausen/work/test_install3/env37/lib/python3.7/site-packages/numpy/core/fromnumeric.py:2495: FutureWarning: Method .ptp is deprecated and will be removed in a future version. Use numpy.ptp instead.\n",
      "  return ptp(axis=axis, out=out, **kwargs)\n"
     ]
    },
    {
     "name": "stdout",
     "output_type": "stream",
     "text": [
      "INFO:root:-------------------------------\n",
      "INFO:root:\n",
      "INFO:root:Creating JSON Patterns...\n",
      "DEBUG:root:Done in 0.000175 seconds\n",
      "\n",
      "DEBUG:root:Pattern list created in 1.207002 seconds\n",
      "\n",
      "INFO:root:Creating percent change list...\n",
      "DEBUG:root:Done in 0.000032 seconds\n",
      "\n",
      "INFO:root:Creating pattern list...\n",
      "DEBUG:root:Done in 0.006434 seconds\n",
      "\n"
     ]
    },
    {
     "data": {
      "application/vnd.jupyter.widget-view+json": {
       "model_id": "97a6961c29404b54a04b519836bbe5e8",
       "version_major": 2,
       "version_minor": 0
      },
      "text/plain": [
       "PatternListFast(config={'es_thresh': 0.6, 'help': True}, dependent='fut_return', kde=[[0.0017473496626087576, …"
      ]
     },
     "metadata": {},
     "output_type": "display_data"
    },
    {
     "name": "stdout",
     "output_type": "stream",
     "text": [
      "DEBUG:matplotlib.pyplot:Loaded backend module://ipykernel.pylab.backend_inline version unknown.\n"
     ]
    }
   ],
   "source": [
    "import pandas as pd\n",
    "import numpy as np\n",
    "import data_context_map.pattern_miner as pm\n",
    "\n",
    "df = pd.read_csv('../test_data/sp500_data_2.csv')\n",
    "target = 'fut_return'\n",
    "\n",
    "out = pm.DataContextMap(df, target, verbose=2, mine_type='numeric', fdr='exhaustive', show_help=True)\n",
    "out.render()"
   ]
  },
  {
   "cell_type": "code",
   "execution_count": 3,
   "metadata": {},
   "outputs": [
    {
     "data": {
      "application/vnd.jupyter.widget-view+json": {
       "model_id": "274a2d60cadf4ff388323aa18830bcca",
       "version_major": 2,
       "version_minor": 0
      },
      "text/plain": [
       "IntSlider(value=0)"
      ]
     },
     "metadata": {},
     "output_type": "display_data"
    }
   ],
   "source": [
    "import ipywidgets as widgets\n",
    "widgets.IntSlider()"
   ]
  },
  {
   "cell_type": "code",
   "execution_count": null,
   "metadata": {},
   "outputs": [],
   "source": []
  }
 ],
 "metadata": {
  "kernelspec": {
   "display_name": "Python 3",
   "language": "python",
   "name": "python3"
  },
  "language_info": {
   "codemirror_mode": {
    "name": "ipython",
    "version": 3
   },
   "file_extension": ".py",
   "mimetype": "text/x-python",
   "name": "python",
   "nbconvert_exporter": "python",
   "pygments_lexer": "ipython3",
   "version": "3.7.5"
  }
 },
 "nbformat": 4,
 "nbformat_minor": 4
}
