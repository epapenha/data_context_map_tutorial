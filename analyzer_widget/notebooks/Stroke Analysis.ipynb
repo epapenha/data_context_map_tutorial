{
 "cells": [
  {
   "cell_type": "markdown",
   "metadata": {},
   "source": [
    "#### Read Stroke Data"
   ]
  },
  {
   "cell_type": "code",
   "execution_count": null,
   "metadata": {},
   "outputs": [],
   "source": [
    "import pandas as pd\n",
    "stroke = pd.read_csv('data/stroke.csv') "
   ]
  },
  {
   "cell_type": "markdown",
   "metadata": {},
   "source": [
    "#### Analyze Using the AI Rover"
   ]
  },
  {
   "cell_type": "code",
   "execution_count": null,
   "metadata": {},
   "outputs": [],
   "source": [
    "from analyzer_widget import AKMiner\n",
    "\n",
    "target = 'stroke'  # Identify drivers of 'stroke' occurrences\n",
    "out = AKMiner(stroke,  # dataset to analyze\n",
    "              target, # target variable of interest\n",
    "              mine_type='binary',  # Note that the target attribute is binary\n",
    "              holdout=2  # number of holdout sets\n",
    "             )  \n",
    "out.render()  # render interface"
   ]
  },
  {
   "cell_type": "code",
   "execution_count": null,
   "metadata": {},
   "outputs": [],
   "source": []
  }
 ],
 "metadata": {
  "kernelspec": {
   "display_name": "Python 3 (ipykernel)",
   "language": "python",
   "name": "python3"
  },
  "language_info": {
   "codemirror_mode": {
    "name": "ipython",
    "version": 3
   },
   "file_extension": ".py",
   "mimetype": "text/x-python",
   "name": "python",
   "nbconvert_exporter": "python",
   "pygments_lexer": "ipython3",
   "version": "3.7.5"
  }
 },
 "nbformat": 4,
 "nbformat_minor": 4
}
